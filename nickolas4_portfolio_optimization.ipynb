{
 "cells": [
  {
   "cell_type": "markdown",
   "metadata": {},
   "source": [
    "# Nickolas4 - Portfolio Optimization"
   ]
  },
  {
   "cell_type": "code",
   "execution_count": 1,
   "metadata": {
    "collapsed": true
   },
   "outputs": [],
   "source": [
    "import numpy as np\n",
    "import pandas as pd\n",
    "from pandas_datareader import DataReader as dr\n",
    "import matplotlib.pyplot as plt\n",
    "%matplotlib inline\n",
    "import scipy.optimize as sco"
   ]
  },
  {
   "cell_type": "code",
   "execution_count": 2,
   "metadata": {
    "collapsed": true
   },
   "outputs": [],
   "source": [
    "#Generate portfolio\n",
    "symbols = ['AAPL', 'MSFT', 'TLT', 'USO', 'GLD', \n",
    "           'SPY', 'CAT', 'KO', 'WMT', 'EMB']\n",
    "asset_count = len(symbols)"
   ]
  },
  {
   "cell_type": "code",
   "execution_count": 3,
   "metadata": {
    "collapsed": true
   },
   "outputs": [],
   "source": [
    "#Empty DF to store web data\n",
    "nickolas4 = pd.DataFrame()"
   ]
  },
  {
   "cell_type": "code",
   "execution_count": 4,
   "metadata": {
    "collapsed": false
   },
   "outputs": [
    {
     "data": {
      "text/plain": [
       "Date\n",
       "2017-04-24    0.00770\n",
       "2017-04-25    0.00808\n",
       "2017-04-26    0.00803\n",
       "2017-04-27    0.00785\n",
       "2017-04-28    0.00780\n",
       "Name: Adj Close, dtype: float64"
      ]
     },
     "execution_count": 4,
     "metadata": {},
     "output_type": "execute_result"
    }
   ],
   "source": [
    "risk_free = dr('^IRX', data_source='yahoo', \n",
    "                       start='2010-01-01')['Adj Close']/100\n",
    "risk_free.tail()"
   ]
  },
  {
   "cell_type": "code",
   "execution_count": 5,
   "metadata": {
    "collapsed": false
   },
   "outputs": [
    {
     "data": {
      "text/html": [
       "<div>\n",
       "<table border=\"1\" class=\"dataframe\">\n",
       "  <thead>\n",
       "    <tr style=\"text-align: right;\">\n",
       "      <th></th>\n",
       "      <th>AAPL</th>\n",
       "      <th>MSFT</th>\n",
       "      <th>TLT</th>\n",
       "      <th>USO</th>\n",
       "      <th>GLD</th>\n",
       "      <th>SPY</th>\n",
       "      <th>CAT</th>\n",
       "      <th>KO</th>\n",
       "      <th>WMT</th>\n",
       "      <th>EMB</th>\n",
       "    </tr>\n",
       "    <tr>\n",
       "      <th>Date</th>\n",
       "      <th></th>\n",
       "      <th></th>\n",
       "      <th></th>\n",
       "      <th></th>\n",
       "      <th></th>\n",
       "      <th></th>\n",
       "      <th></th>\n",
       "      <th></th>\n",
       "      <th></th>\n",
       "      <th></th>\n",
       "    </tr>\n",
       "  </thead>\n",
       "  <tbody>\n",
       "    <tr>\n",
       "      <th>2017-04-24</th>\n",
       "      <td>143.64</td>\n",
       "      <td>67.53</td>\n",
       "      <td>122.93</td>\n",
       "      <td>10.25</td>\n",
       "      <td>121.48</td>\n",
       "      <td>237.17</td>\n",
       "      <td>96.81</td>\n",
       "      <td>43.28</td>\n",
       "      <td>74.78</td>\n",
       "      <td>114.89</td>\n",
       "    </tr>\n",
       "    <tr>\n",
       "      <th>2017-04-25</th>\n",
       "      <td>144.53</td>\n",
       "      <td>67.92</td>\n",
       "      <td>121.45</td>\n",
       "      <td>10.36</td>\n",
       "      <td>120.25</td>\n",
       "      <td>238.55</td>\n",
       "      <td>104.42</td>\n",
       "      <td>43.11</td>\n",
       "      <td>75.05</td>\n",
       "      <td>114.60</td>\n",
       "    </tr>\n",
       "    <tr>\n",
       "      <th>2017-04-26</th>\n",
       "      <td>143.68</td>\n",
       "      <td>67.83</td>\n",
       "      <td>122.12</td>\n",
       "      <td>10.26</td>\n",
       "      <td>120.84</td>\n",
       "      <td>238.40</td>\n",
       "      <td>104.66</td>\n",
       "      <td>43.24</td>\n",
       "      <td>75.43</td>\n",
       "      <td>114.58</td>\n",
       "    </tr>\n",
       "    <tr>\n",
       "      <th>2017-04-27</th>\n",
       "      <td>143.79</td>\n",
       "      <td>68.27</td>\n",
       "      <td>122.08</td>\n",
       "      <td>10.24</td>\n",
       "      <td>120.39</td>\n",
       "      <td>238.60</td>\n",
       "      <td>102.68</td>\n",
       "      <td>43.01</td>\n",
       "      <td>75.44</td>\n",
       "      <td>114.84</td>\n",
       "    </tr>\n",
       "    <tr>\n",
       "      <th>2017-04-28</th>\n",
       "      <td>143.65</td>\n",
       "      <td>68.46</td>\n",
       "      <td>122.35</td>\n",
       "      <td>10.24</td>\n",
       "      <td>120.77</td>\n",
       "      <td>238.08</td>\n",
       "      <td>102.26</td>\n",
       "      <td>43.15</td>\n",
       "      <td>75.18</td>\n",
       "      <td>115.20</td>\n",
       "    </tr>\n",
       "  </tbody>\n",
       "</table>\n",
       "</div>"
      ],
      "text/plain": [
       "              AAPL   MSFT     TLT    USO     GLD     SPY     CAT     KO  \\\n",
       "Date                                                                      \n",
       "2017-04-24  143.64  67.53  122.93  10.25  121.48  237.17   96.81  43.28   \n",
       "2017-04-25  144.53  67.92  121.45  10.36  120.25  238.55  104.42  43.11   \n",
       "2017-04-26  143.68  67.83  122.12  10.26  120.84  238.40  104.66  43.24   \n",
       "2017-04-27  143.79  68.27  122.08  10.24  120.39  238.60  102.68  43.01   \n",
       "2017-04-28  143.65  68.46  122.35  10.24  120.77  238.08  102.26  43.15   \n",
       "\n",
       "              WMT     EMB  \n",
       "Date                       \n",
       "2017-04-24  74.78  114.89  \n",
       "2017-04-25  75.05  114.60  \n",
       "2017-04-26  75.43  114.58  \n",
       "2017-04-27  75.44  114.84  \n",
       "2017-04-28  75.18  115.20  "
      ]
     },
     "execution_count": 5,
     "metadata": {},
     "output_type": "execute_result"
    }
   ],
   "source": [
    "#Add 10 historic asset returns from Yahoo\n",
    "for i in symbols:\n",
    "    nickolas4[i] = dr(i, data_source='yahoo', \n",
    "    start='2010-01-01')['Adj Close'].round(2)\n",
    "nickolas4.columns = symbols\n",
    "\n",
    "nickolas4.tail()"
   ]
  },
  {
   "cell_type": "code",
   "execution_count": 6,
   "metadata": {
    "collapsed": false
   },
   "outputs": [
    {
     "data": {
      "text/plain": [
       "<matplotlib.axes._subplots.AxesSubplot at 0x10e5d13d0>"
      ]
     },
     "execution_count": 6,
     "metadata": {},
     "output_type": "execute_result"
    },
    {
     "data": {
      "image/png": "[encoded data removed]",
      "text/plain": [
       "<matplotlib.figure.Figure at 0x1044cafd0>"
      ]
     },
     "metadata": {},
     "output_type": "display_data"
    }
   ],
   "source": [
    "#DF of Logarithim Returns\n",
    "n4_log = np.log(nickolas4/nickolas4.shift(1))\n",
    "n4_log.plot(figsize=(8,5))"
   ]
  },
  {
   "cell_type": "markdown",
   "metadata": {},
   "source": [
    "# 3.) Portfolio Optimization"
   ]
  },
  {
   "cell_type": "markdown",
   "metadata": {},
   "source": [
    "#### Method 1 - Maximize Sharpe Ratio \n",
    "\n",
    "* Minimize negative values"
   ]
  },
  {
   "cell_type": "code",
   "execution_count": 7,
   "metadata": {
    "collapsed": true
   },
   "outputs": [],
   "source": [
    "def statistics(weights):\n",
    "    ''' Return portfolio statistics.\n",
    "    \n",
    "    Parameters\n",
    "    ==========\n",
    "    weights : array-like\n",
    "        weights for different securities in portfolio\n",
    "    \n",
    "    Returns\n",
    "    =======\n",
    "    pret : float\n",
    "        expected portfolio return\n",
    "    pvol : float\n",
    "        expected portfolio volatility\n",
    "    pret / pvol : float\n",
    "        Sharpe ratio for rf=0\n",
    "    '''\n",
    "    weights = np.array(weights)\n",
    "    pret = np.sum(n4_log.mean() * weights) * 252\n",
    "    pvol = np.sqrt(np.dot(weights.T, np.dot(n4_log.cov() * 252, weights)))\n",
    "    return np.array([pret, pvol, pret/pvol])"
   ]
  },
  {
   "cell_type": "code",
   "execution_count": 8,
   "metadata": {
    "collapsed": true
   },
   "outputs": [],
   "source": [
    "def maximize_sharpe(weights):\n",
    "    return -statistics(weights)[2]"
   ]
  },
  {
   "cell_type": "markdown",
   "metadata": {},
   "source": [
    "* Constraint is that all parameters add up to 1, and can be formulated using the conventions of the minimize function"
   ]
  },
  {
   "cell_type": "code",
   "execution_count": 10,
   "metadata": {
    "collapsed": true
   },
   "outputs": [],
   "source": [
    "cons = ({'type':'eq', 'fun': lambda x: np.sum(x) - 1})"
   ]
  },
  {
   "cell_type": "markdown",
   "metadata": {},
   "source": [
    "* Bound parameter values to be within 0 and 1. \n",
    "\n",
    "\n",
    "* These values are provided to the minimization function as a tuple of tuples in this case:"
   ]
  },
  {
   "cell_type": "code",
   "execution_count": 12,
   "metadata": {
    "collapsed": true
   },
   "outputs": [],
   "source": [
    "bnds = tuple((0, 1) for x in range(asset_count))"
   ]
  },
  {
   "cell_type": "markdown",
   "metadata": {},
   "source": [
    "*  A starting parameter list (weight values) is needed to call the optimization function\n",
    "\n",
    "\n",
    "* Equal Distribution of Weights of 10% (initial guesses for the weights). "
   ]
  },
  {
   "cell_type": "code",
   "execution_count": 13,
   "metadata": {
    "collapsed": false
   },
   "outputs": [
    {
     "data": {
      "text/plain": [
       "[0.1, 0.1, 0.1, 0.1, 0.1, 0.1, 0.1, 0.1, 0.1, 0.1]"
      ]
     },
     "execution_count": 13,
     "metadata": {},
     "output_type": "execute_result"
    }
   ],
   "source": [
    "asset_count * [1. / asset_count,]"
   ]
  },
  {
   "cell_type": "markdown",
   "metadata": {},
   "source": [
    "* Store optimization results in an object"
   ]
  },
  {
   "cell_type": "code",
   "execution_count": 16,
   "metadata": {
    "collapsed": true
   },
   "outputs": [],
   "source": [
    "opt_sharpe = sco.minimize(maximize_sharpe, asset_count * [1. / asset_count,], method='SLSQP',\n",
    "                       bounds=bnds, constraints=cons)"
   ]
  },
  {
   "cell_type": "markdown",
   "metadata": {},
   "source": [
    "* Call the Function"
   ]
  },
  {
   "cell_type": "code",
   "execution_count": 17,
   "metadata": {
    "collapsed": false
   },
   "outputs": [
    {
     "data": {
      "text/plain": [
       "     fun: -1.4579722430961826\n",
       "     jac: array([  5.61401248e-04,   1.85932219e-03,  -1.32635236e-04,\n",
       "         4.06373276e+00,   5.41859478e-01,   1.18702650e-04,\n",
       "         6.16965845e-01,  -1.00772083e-03,  -5.54084778e-04,\n",
       "        -7.91996717e-05])\n",
       " message: 'Optimization terminated successfully.'\n",
       "    nfev: 151\n",
       "     nit: 12\n",
       "    njev: 12\n",
       "  status: 0\n",
       " success: True\n",
       "       x: array([  1.07619565e-01,   4.86043585e-03,   3.52933550e-01,\n",
       "         3.61595179e-15,   2.98193951e-16,   2.56180325e-01,\n",
       "         4.94041888e-16,   3.09715946e-02,   4.66099193e-03,\n",
       "         2.42773539e-01])"
      ]
     },
     "execution_count": 17,
     "metadata": {},
     "output_type": "execute_result"
    }
   ],
   "source": [
    "opt_sharpe"
   ]
  },
  {
   "cell_type": "markdown",
   "metadata": {},
   "source": [
    "* Retrieve the optimal portfolio composition by accessing the results object by providing the key of interest (x, in our case). \n",
    "\n",
    "\n",
    "* Optimal Portfolio has only 5 assets out of 10 total"
   ]
  },
  {
   "cell_type": "code",
   "execution_count": 19,
   "metadata": {
    "collapsed": false
   },
   "outputs": [
    {
     "data": {
      "text/plain": [
       "array([ 0.108,  0.005,  0.353,  0.   ,  0.   ,  0.256,  0.   ,  0.031,\n",
       "        0.005,  0.243])"
      ]
     },
     "execution_count": 19,
     "metadata": {},
     "output_type": "execute_result"
    }
   ],
   "source": [
    "pf_optimize_sharpe['x'].round(3)"
   ]
  },
  {
   "cell_type": "code",
   "execution_count": 20,
   "metadata": {
    "collapsed": false
   },
   "outputs": [
    {
     "data": {
      "text/plain": [
       "1.0009999999999999"
      ]
     },
     "execution_count": 20,
     "metadata": {},
     "output_type": "execute_result"
    }
   ],
   "source": [
    "#Portfolio weights sum to 1\n",
    "np.sum(pf_optimize_sharpe['x'].round(3))"
   ]
  },
  {
   "cell_type": "markdown",
   "metadata": {},
   "source": [
    "#### Using the portfolio weights from the optimization, the following statistics emerge:"
   ]
  },
  {
   "cell_type": "code",
   "execution_count": 21,
   "metadata": {
    "collapsed": false
   },
   "outputs": [
    {
     "data": {
      "text/plain": [
       "array([ 0.1  ,  0.068,  1.458])"
      ]
     },
     "execution_count": 21,
     "metadata": {},
     "output_type": "execute_result"
    }
   ],
   "source": [
    "statistics(pf_optimize_sharpe['x']).round(3)"
   ]
  },
  {
   "cell_type": "markdown",
   "metadata": {},
   "source": [
    "#### Optimal Portfolio Weights"
   ]
  },
  {
   "cell_type": "code",
   "execution_count": 22,
   "metadata": {
    "collapsed": true
   },
   "outputs": [],
   "source": [
    "risk_free = risk_free.mean()\n",
    "expd_return = statistics(pf_optimize_sharpe['x']).round(3)[0] - risk_free\n",
    "expd_risk = statistics(pf_optimize_sharpe['x']).round(3)[1]\n",
    "sharpe = statistics(pf_optimize_sharpe['x']).round(3)[2]"
   ]
  },
  {
   "cell_type": "code",
   "execution_count": 23,
   "metadata": {
    "collapsed": false
   },
   "outputs": [
    {
     "name": "stdout",
     "output_type": "stream",
     "text": [
      "Portfolio Results (%)\n",
      "------------------------------\n",
      "Expected Return = 0.099\n",
      "Risk free rate = 0.001\n",
      "Standard Deviation = 0.068\n",
      "Sharpe Ratio = 1.458\n"
     ]
    }
   ],
   "source": [
    "def portfolio_results():\n",
    "    print \"Portfolio Results (%)\"\n",
    "    print 30 * \"-\"\n",
    "    print \"Expected Return = %4.3f\" % expd_return\n",
    "    print \"Risk free rate = %4.3f\" %risk_free\n",
    "    print \"Standard Deviation = %4.3f\" % expd_risk\n",
    "    print \"Sharpe Ratio = %4.3f\" % sharpe\n",
    "portfolio_results()"
   ]
  },
  {
   "cell_type": "markdown",
   "metadata": {},
   "source": [
    "#### Method 2 -  Minimize Portfolo Variance"
   ]
  },
  {
   "cell_type": "code",
   "execution_count": 25,
   "metadata": {
    "collapsed": true
   },
   "outputs": [],
   "source": [
    "def minimize_variance(weights):\n",
    "    return statistics(weights)[1] ** 2"
   ]
  },
  {
   "cell_type": "code",
   "execution_count": 27,
   "metadata": {
    "collapsed": true
   },
   "outputs": [],
   "source": [
    "#Absolute Minimum Variance Portfolio (on the efficient frontier curve)\n",
    "opt_variance = sco.minimize(minimize_variance, asset_count * [1. / asset_count,], method='SLSQP',\n",
    "                                   bounds = bnds, constraints=cons)"
   ]
  },
  {
   "cell_type": "markdown",
   "metadata": {},
   "source": [
    "* Minimum variance portfolio only contains 5 assets ot of the possible 10."
   ]
  },
  {
   "cell_type": "code",
   "execution_count": 29,
   "metadata": {
    "collapsed": false
   },
   "outputs": [
    {
     "data": {
      "text/plain": [
       "array([ 0.   ,  0.   ,  0.248,  0.   ,  0.044,  0.14 ,  0.   ,  0.055,\n",
       "        0.057,  0.456])"
      ]
     },
     "execution_count": 29,
     "metadata": {},
     "output_type": "execute_result"
    }
   ],
   "source": [
    "opt_variance['x'].round(3)"
   ]
  },
  {
   "cell_type": "code",
   "execution_count": 31,
   "metadata": {
    "collapsed": false
   },
   "outputs": [],
   "source": [
    "ER = statistics(opt_variance['x']).round(3)[0] - risk_free\n",
    "STDEV = statistics(opt_variance['x']).round(3)[1]\n",
    "SHARPE = statistics(opt_variance['x']).round(3)[2]"
   ]
  },
  {
   "cell_type": "code",
   "execution_count": 32,
   "metadata": {
    "collapsed": false
   },
   "outputs": [
    {
     "name": "stdout",
     "output_type": "stream",
     "text": [
      "Portfolio Results (%)\n",
      "------------------------------\n",
      "Expected Return = 0.072\n",
      "Standard Deviation = 0.059\n",
      "Sharpe Ratio = 1.242\n"
     ]
    }
   ],
   "source": [
    "def portfolio_results():\n",
    "    print \"Portfolio Results (%)\"\n",
    "    print 30 * \"-\"\n",
    "    print \"Expected Return = %4.3f\" % ER\n",
    "    print \"Standard Deviation = %4.3f\" % STDEV\n",
    "    print \"Sharpe Ratio = %4.3f\" % SHARPE\n",
    "portfolio_results()"
   ]
  },
  {
   "cell_type": "code",
   "execution_count": null,
   "metadata": {
    "collapsed": true
   },
   "outputs": [],
   "source": []
  }
 ],
 "metadata": {
  "anaconda-cloud": {},
  "kernelspec": {
   "display_name": "Python 2",
   "language": "python",
   "name": "python2"
  },
  "language_info": {
   "codemirror_mode": {
    "name": "ipython",
    "version": 2
   },
   "file_extension": ".py",
   "mimetype": "text/x-python",
   "name": "python",
   "nbconvert_exporter": "python",
   "pygments_lexer": "ipython2",
   "version": "2.7.13"
  }
 },
 "nbformat": 4,
 "nbformat_minor": 1
}
